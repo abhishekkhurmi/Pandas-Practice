{
 "cells": [
  {
   "cell_type": "code",
   "execution_count": 1,
   "id": "2af8313f",
   "metadata": {},
   "outputs": [],
   "source": [
    "#Importing Libraries\n",
    "\n",
    "import pandas as pd\n",
    "import numpy as np"
   ]
  },
  {
   "cell_type": "code",
   "execution_count": 2,
   "id": "1e35dbf0",
   "metadata": {},
   "outputs": [],
   "source": [
    "# Importing Production Data having all the values.\n",
    "\n",
    "prd_data = pd.read_excel('Files\\PRD_data.xlsx',index_col='Shop')"
   ]
  },
  {
   "cell_type": "code",
   "execution_count": 3,
   "id": "5ff3f8e4",
   "metadata": {},
   "outputs": [
    {
     "data": {
      "text/html": [
       "<div>\n",
       "<style scoped>\n",
       "    .dataframe tbody tr th:only-of-type {\n",
       "        vertical-align: middle;\n",
       "    }\n",
       "\n",
       "    .dataframe tbody tr th {\n",
       "        vertical-align: top;\n",
       "    }\n",
       "\n",
       "    .dataframe thead th {\n",
       "        text-align: right;\n",
       "    }\n",
       "</style>\n",
       "<table border=\"1\" class=\"dataframe\">\n",
       "  <thead>\n",
       "    <tr style=\"text-align: right;\">\n",
       "      <th></th>\n",
       "      <th>Item</th>\n",
       "      <th>Count</th>\n",
       "    </tr>\n",
       "    <tr>\n",
       "      <th>Shop</th>\n",
       "      <th></th>\n",
       "      <th></th>\n",
       "    </tr>\n",
       "  </thead>\n",
       "  <tbody>\n",
       "    <tr>\n",
       "      <th>Shop1</th>\n",
       "      <td>Choco</td>\n",
       "      <td>100</td>\n",
       "    </tr>\n",
       "    <tr>\n",
       "      <th>Shop2</th>\n",
       "      <td>Lolly</td>\n",
       "      <td>200</td>\n",
       "    </tr>\n",
       "    <tr>\n",
       "      <th>Shop3</th>\n",
       "      <td>Candy</td>\n",
       "      <td>700</td>\n",
       "    </tr>\n",
       "    <tr>\n",
       "      <th>Shop4</th>\n",
       "      <td>Waffle</td>\n",
       "      <td>800</td>\n",
       "    </tr>\n",
       "    <tr>\n",
       "      <th>Shop5</th>\n",
       "      <td>Ice-cream</td>\n",
       "      <td>450</td>\n",
       "    </tr>\n",
       "  </tbody>\n",
       "</table>\n",
       "</div>"
      ],
      "text/plain": [
       "            Item  Count\n",
       "Shop                   \n",
       "Shop1      Choco    100\n",
       "Shop2      Lolly    200\n",
       "Shop3      Candy    700\n",
       "Shop4     Waffle    800\n",
       "Shop5  Ice-cream    450"
      ]
     },
     "execution_count": 3,
     "metadata": {},
     "output_type": "execute_result"
    }
   ],
   "source": [
    "prd_data"
   ]
  },
  {
   "cell_type": "code",
   "execution_count": 4,
   "id": "00a16f0e",
   "metadata": {},
   "outputs": [],
   "source": [
    "# Importing QA Data to be compared with production data.\n",
    "\n",
    "qa_data = pd.read_excel('Files\\QA_data.xlsx',index_col='Shop')"
   ]
  },
  {
   "cell_type": "code",
   "execution_count": 5,
   "id": "c8305b6e",
   "metadata": {},
   "outputs": [
    {
     "data": {
      "text/html": [
       "<div>\n",
       "<style scoped>\n",
       "    .dataframe tbody tr th:only-of-type {\n",
       "        vertical-align: middle;\n",
       "    }\n",
       "\n",
       "    .dataframe tbody tr th {\n",
       "        vertical-align: top;\n",
       "    }\n",
       "\n",
       "    .dataframe thead th {\n",
       "        text-align: right;\n",
       "    }\n",
       "</style>\n",
       "<table border=\"1\" class=\"dataframe\">\n",
       "  <thead>\n",
       "    <tr style=\"text-align: right;\">\n",
       "      <th></th>\n",
       "      <th>Item</th>\n",
       "      <th>Count</th>\n",
       "    </tr>\n",
       "    <tr>\n",
       "      <th>Shop</th>\n",
       "      <th></th>\n",
       "      <th></th>\n",
       "    </tr>\n",
       "  </thead>\n",
       "  <tbody>\n",
       "    <tr>\n",
       "      <th>Shop1</th>\n",
       "      <td>Choco</td>\n",
       "      <td>100</td>\n",
       "    </tr>\n",
       "    <tr>\n",
       "      <th>Shop2</th>\n",
       "      <td>Lolly</td>\n",
       "      <td>122</td>\n",
       "    </tr>\n",
       "    <tr>\n",
       "      <th>Shop3</th>\n",
       "      <td>Berry</td>\n",
       "      <td>700</td>\n",
       "    </tr>\n",
       "    <tr>\n",
       "      <th>Shop4</th>\n",
       "      <td>Waffle</td>\n",
       "      <td>800</td>\n",
       "    </tr>\n",
       "    <tr>\n",
       "      <th>Shop5</th>\n",
       "      <td>Ice-cream</td>\n",
       "      <td>450</td>\n",
       "    </tr>\n",
       "  </tbody>\n",
       "</table>\n",
       "</div>"
      ],
      "text/plain": [
       "            Item  Count\n",
       "Shop                   \n",
       "Shop1      Choco    100\n",
       "Shop2      Lolly    122\n",
       "Shop3      Berry    700\n",
       "Shop4     Waffle    800\n",
       "Shop5  Ice-cream    450"
      ]
     },
     "execution_count": 5,
     "metadata": {},
     "output_type": "execute_result"
    }
   ],
   "source": [
    "qa_data"
   ]
  },
  {
   "cell_type": "code",
   "execution_count": 6,
   "id": "a6247ba8",
   "metadata": {},
   "outputs": [],
   "source": [
    "#Creating Output File\n",
    "\n",
    "output_data = pd.DataFrame()\n",
    "output_data['Shop'] = prd_data.index.values\n",
    "output_data['Item'] = np.where((prd_data['Item']!=qa_data['Item']),'NA',qa_data['Item'])\n",
    "output_data['Count'] = np.where((prd_data['Count']!=qa_data['Count']),'NA',qa_data['Count'])\n",
    "output_data['Match_Mismatch'] = np.where((prd_data['Item']!=qa_data['Item']) | (prd_data['Count']!=qa_data['Count']),'False','True')\n",
    "output_data.set_index('Shop', inplace=True)"
   ]
  },
  {
   "cell_type": "code",
   "execution_count": 7,
   "id": "6e36da44",
   "metadata": {},
   "outputs": [
    {
     "data": {
      "text/html": [
       "<div>\n",
       "<style scoped>\n",
       "    .dataframe tbody tr th:only-of-type {\n",
       "        vertical-align: middle;\n",
       "    }\n",
       "\n",
       "    .dataframe tbody tr th {\n",
       "        vertical-align: top;\n",
       "    }\n",
       "\n",
       "    .dataframe thead th {\n",
       "        text-align: right;\n",
       "    }\n",
       "</style>\n",
       "<table border=\"1\" class=\"dataframe\">\n",
       "  <thead>\n",
       "    <tr style=\"text-align: right;\">\n",
       "      <th></th>\n",
       "      <th>Item</th>\n",
       "      <th>Count</th>\n",
       "      <th>Match_Mismatch</th>\n",
       "    </tr>\n",
       "    <tr>\n",
       "      <th>Shop</th>\n",
       "      <th></th>\n",
       "      <th></th>\n",
       "      <th></th>\n",
       "    </tr>\n",
       "  </thead>\n",
       "  <tbody>\n",
       "    <tr>\n",
       "      <th>Shop1</th>\n",
       "      <td>Choco</td>\n",
       "      <td>100</td>\n",
       "      <td>True</td>\n",
       "    </tr>\n",
       "    <tr>\n",
       "      <th>Shop2</th>\n",
       "      <td>Lolly</td>\n",
       "      <td>NA</td>\n",
       "      <td>False</td>\n",
       "    </tr>\n",
       "    <tr>\n",
       "      <th>Shop3</th>\n",
       "      <td>NA</td>\n",
       "      <td>700</td>\n",
       "      <td>False</td>\n",
       "    </tr>\n",
       "    <tr>\n",
       "      <th>Shop4</th>\n",
       "      <td>Waffle</td>\n",
       "      <td>800</td>\n",
       "      <td>True</td>\n",
       "    </tr>\n",
       "    <tr>\n",
       "      <th>Shop5</th>\n",
       "      <td>Ice-cream</td>\n",
       "      <td>450</td>\n",
       "      <td>True</td>\n",
       "    </tr>\n",
       "  </tbody>\n",
       "</table>\n",
       "</div>"
      ],
      "text/plain": [
       "            Item Count Match_Mismatch\n",
       "Shop                                 \n",
       "Shop1      Choco   100           True\n",
       "Shop2      Lolly    NA          False\n",
       "Shop3         NA   700          False\n",
       "Shop4     Waffle   800           True\n",
       "Shop5  Ice-cream   450           True"
      ]
     },
     "execution_count": 7,
     "metadata": {},
     "output_type": "execute_result"
    }
   ],
   "source": [
    "output_data"
   ]
  },
  {
   "cell_type": "code",
   "execution_count": 8,
   "id": "f1e4c058",
   "metadata": {},
   "outputs": [],
   "source": [
    "output_data.to_excel('Files\\Output_Data.xlsx')"
   ]
  },
  {
   "cell_type": "code",
   "execution_count": null,
   "id": "84535769",
   "metadata": {},
   "outputs": [],
   "source": []
  }
 ],
 "metadata": {
  "kernelspec": {
   "display_name": "Python 3",
   "language": "python",
   "name": "python3"
  },
  "language_info": {
   "codemirror_mode": {
    "name": "ipython",
    "version": 3
   },
   "file_extension": ".py",
   "mimetype": "text/x-python",
   "name": "python",
   "nbconvert_exporter": "python",
   "pygments_lexer": "ipython3",
   "version": "3.9.5"
  }
 },
 "nbformat": 4,
 "nbformat_minor": 5
}
